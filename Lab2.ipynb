{
  "nbformat": 4,
  "nbformat_minor": 0,
  "metadata": {
    "colab": {
      "provenance": [],
      "toc_visible": true
    },
    "kernelspec": {
      "name": "python3",
      "display_name": "Python 3"
    },
    "language_info": {
      "name": "python"
    }
  },
  "cells": [
    {
      "cell_type": "markdown",
      "source": [
        "# Laboratorio 1 - Regresión\n",
        "\n",
        "*   Jaime Torres - 202014866\n",
        "*   Juan Guillermo Gutiérrez - 202122659\n",
        "*   Maria Luisa Rodríguez -202121549"
      ],
      "metadata": {
        "id": "wM8FJj_lVBHI"
      }
    },
    {
      "cell_type": "markdown",
      "source": [
        "## 1) Preparación de Datos"
      ],
      "metadata": {
        "id": "EZ5SKd6uVD_3"
      }
    },
    {
      "cell_type": "markdown",
      "source": [
        "### 1.1) Entendimiento de los Datos"
      ],
      "metadata": {
        "id": "-Q6IWljYWDLN"
      }
    },
    {
      "cell_type": "markdown",
      "source": [
        "### 1.2) Completitud"
      ],
      "metadata": {
        "id": "r9GpnqEIWW5V"
      }
    },
    {
      "cell_type": "markdown",
      "source": [
        "### 1.3) Unicidad"
      ],
      "metadata": {
        "id": "eq6b31EcWdhG"
      }
    },
    {
      "cell_type": "markdown",
      "source": [
        "### 1.4) Consistencia"
      ],
      "metadata": {
        "id": "sXzcmYI0Wf8q"
      }
    },
    {
      "cell_type": "markdown",
      "source": [
        "### 1.5) Validez"
      ],
      "metadata": {
        "id": "ze9ObWDWWmKf"
      }
    },
    {
      "cell_type": "markdown",
      "source": [
        "### 1.6) Preparación de Datos No Numéricos"
      ],
      "metadata": {
        "id": "SKcT8nvFWqvK"
      }
    },
    {
      "cell_type": "markdown",
      "source": [
        "## 2) Modelamiento"
      ],
      "metadata": {
        "id": "9EC1fyx2VXfR"
      }
    },
    {
      "cell_type": "markdown",
      "source": [
        "### 2.1) K-Means (p1)"
      ],
      "metadata": {
        "id": "iqfr3YtwXCgC"
      }
    },
    {
      "cell_type": "markdown",
      "source": [
        "### 2.2) DB-SCAN (p2)"
      ],
      "metadata": {
        "id": "a8VCPOwbXHIS"
      }
    },
    {
      "cell_type": "markdown",
      "source": [
        "### 2.3) (p3)"
      ],
      "metadata": {
        "id": "YU5mlV-2XOTT"
      }
    },
    {
      "cell_type": "markdown",
      "source": [
        "## 3) Validación Cuantitativa"
      ],
      "metadata": {
        "id": "5C3E0uHwVa_u"
      }
    },
    {
      "cell_type": "markdown",
      "source": [
        "## 4) Validación Cualitativa"
      ],
      "metadata": {
        "id": "uNM3DhvDVlAd"
      }
    }
  ]
}